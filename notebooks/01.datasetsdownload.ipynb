{
 "cells": [
  {
   "cell_type": "code",
   "execution_count": 1,
   "id": "12f89261",
   "metadata": {},
   "outputs": [],
   "source": [
    "import json \n",
    "with open('../datasets/kaggle.json', 'r') as file:\n",
    "    data = json.load(file)"
   ]
  },
  {
   "cell_type": "code",
   "execution_count": 2,
   "id": "0682503f",
   "metadata": {},
   "outputs": [],
   "source": [
    "import os\n",
    "os.environ['KAGGLE_USERNAME'] = data['username']\n",
    "os.environ['KAGGLE_KEY'] = data['key']"
   ]
  },
  {
   "cell_type": "code",
   "execution_count": 3,
   "id": "bbe0b900",
   "metadata": {},
   "outputs": [],
   "source": [
    "from kaggle.api.kaggle_api_extended import KaggleApi\n",
    "api = KaggleApi()\n",
    "api.authenticate()"
   ]
  },
  {
   "cell_type": "code",
   "execution_count": 4,
   "id": "11e6cb89",
   "metadata": {},
   "outputs": [
    {
     "name": "stdout",
     "output_type": "stream",
     "text": [
      "Dataset URL: https://www.kaggle.com/datasets/hopesb/student-depression-dataset\n"
     ]
    }
   ],
   "source": [
    "api.dataset_download_files('hopesb/student-depression-dataset', path='../datasets/')"
   ]
  },
  {
   "cell_type": "code",
   "execution_count": 7,
   "id": "863d54b2",
   "metadata": {},
   "outputs": [],
   "source": [
    "import zipfile  \n",
    "with zipfile.ZipFile('../datasets/student-depression-dataset.zip', 'r') as zip_ref:\n",
    "    zip_ref.extractall('../datasets/')"
   ]
  }
 ],
 "metadata": {
  "kernelspec": {
   "display_name": "env",
   "language": "python",
   "name": "python3"
  },
  "language_info": {
   "codemirror_mode": {
    "name": "ipython",
    "version": 3
   },
   "file_extension": ".py",
   "mimetype": "text/x-python",
   "name": "python",
   "nbconvert_exporter": "python",
   "pygments_lexer": "ipython3",
   "version": "3.12.6"
  }
 },
 "nbformat": 4,
 "nbformat_minor": 5
}
